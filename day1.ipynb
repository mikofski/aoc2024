{
 "cells": [
  {
   "cell_type": "markdown",
   "id": "bdddfcbc-0269-41f3-9ad7-d5a2309dd969",
   "metadata": {},
   "source": [
    "# Day 1 - puzzle 1\n",
    "There are two lists of \"location IDs\" that need to be sorted, then determine the sum of the absolute deltas."
   ]
  },
  {
   "cell_type": "code",
   "execution_count": 1,
   "id": "a69f6047-1459-4184-98b6-14daf30bbeba",
   "metadata": {},
   "outputs": [],
   "source": [
    "import numpy as np"
   ]
  },
  {
   "cell_type": "code",
   "execution_count": 2,
   "id": "b0d2affb-19c0-4741-89b8-679eb3d0e346",
   "metadata": {},
   "outputs": [],
   "source": [
    "# Pandas can also be used to import the data which might be fixed width,\n",
    "# but avoid assumptions, and use any whitespace ('\\s+') as the separator\n",
    "# import pandas as pd\n",
    "# data = pd.read_csv('input_day_1a.txt', sep='\\s+', names=['a', 'b'])"
   ]
  },
  {
   "cell_type": "code",
   "execution_count": 3,
   "id": "cc1d6a0e-2502-481d-9b11-ec377860ee9c",
   "metadata": {},
   "outputs": [],
   "source": [
    "# read in the data for both historian groups\n",
    "data_filename = 'input_day_1a.txt'\n",
    "historian_groups = ('a', 'b')\n",
    "dt = list(zip(historian_groups, (int, int)))\n",
    "data = np.loadtxt(data_filename, dtype=dt)"
   ]
  },
  {
   "cell_type": "code",
   "execution_count": 4,
   "id": "f38093cf-7e1a-4f5e-8f72-6bdd635003be",
   "metadata": {},
   "outputs": [],
   "source": [
    "data_sorted = np.array([np.sort(data[col]) for col in historian_groups])"
   ]
  },
  {
   "cell_type": "code",
   "execution_count": 5,
   "id": "f9a29882-a9e2-4c2d-8da0-b2139336230d",
   "metadata": {},
   "outputs": [],
   "source": [
    "data_sorted_diff = np.abs(np.diff(data_sorted, axis=0))"
   ]
  },
  {
   "cell_type": "code",
   "execution_count": 6,
   "id": "bbb9be99-db67-47c2-a51b-ea23adbf43e7",
   "metadata": {},
   "outputs": [
    {
     "data": {
      "text/plain": [
       "765748"
      ]
     },
     "execution_count": 6,
     "metadata": {},
     "output_type": "execute_result"
    }
   ],
   "source": [
    "int(data_sorted_diff.sum())"
   ]
  },
  {
   "cell_type": "markdown",
   "id": "41b04e9a-d18f-4da8-a341-3d9f216ae4c8",
   "metadata": {},
   "source": [
    "## puzzle 2\n",
    "Find the \"similarity score\" by counting how many times a number from group \"a\" occurs in group \"b\" increasing the score by the product of the number and its count, then sum the scores."
   ]
  },
  {
   "cell_type": "code",
   "execution_count": 7,
   "id": "521eb91d",
   "metadata": {},
   "outputs": [
    {
     "data": {
      "text/plain": [
       "27732508"
      ]
     },
     "execution_count": 7,
     "metadata": {},
     "output_type": "execute_result"
    }
   ],
   "source": [
    "similarity_counts = [\n",
    "    (av:=a_val, ct:=np.count_nonzero(data_sorted[1]==a_val), av*ct)\n",
    "    for a_val in data_sorted[0]]\n",
    "int(np.sum(similarity_counts, axis=0)[2])"
   ]
  },
  {
   "cell_type": "code",
   "execution_count": 8,
   "id": "13492c8c",
   "metadata": {},
   "outputs": [],
   "source": [
    "similarity_counts = np.array([\n",
    "    (a_val, np.count_nonzero(data['b']==a_val)) for a_val in data['a']])"
   ]
  },
  {
   "cell_type": "code",
   "execution_count": 9,
   "id": "dfe3af31",
   "metadata": {},
   "outputs": [
    {
     "data": {
      "text/plain": [
       "27732508"
      ]
     },
     "execution_count": 9,
     "metadata": {},
     "output_type": "execute_result"
    }
   ],
   "source": [
    "int(similarity_counts.prod(axis=1).sum())"
   ]
  },
  {
   "cell_type": "code",
   "execution_count": null,
   "id": "d8fd99ec",
   "metadata": {},
   "outputs": [],
   "source": []
  }
 ],
 "metadata": {
  "kernelspec": {
   "display_name": "aoc",
   "language": "python",
   "name": "python3"
  },
  "language_info": {
   "codemirror_mode": {
    "name": "ipython",
    "version": 3
   },
   "file_extension": ".py",
   "mimetype": "text/x-python",
   "name": "python",
   "nbconvert_exporter": "python",
   "pygments_lexer": "ipython3",
   "version": "3.11.10"
  }
 },
 "nbformat": 4,
 "nbformat_minor": 5
}
