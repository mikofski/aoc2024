{
 "cells": [
  {
   "cell_type": "markdown",
   "metadata": {},
   "source": [
    "# Day 2\n",
    "checking the reactors"
   ]
  },
  {
   "cell_type": "code",
   "execution_count": 1,
   "metadata": {},
   "outputs": [],
   "source": [
    "import pathlib\n",
    "import numpy as np"
   ]
  },
  {
   "cell_type": "code",
   "execution_count": 2,
   "metadata": {},
   "outputs": [],
   "source": [
    "def check_safe_levels(levels):\n",
    "    \"\"\"report levels is a numpy array\"\"\"\n",
    "    level_deltas = np.diff(levels)\n",
    "    return all(np.abs(level_deltas) <= 3) and (\n",
    "        all(level_deltas>0) or all(level_deltas<0))\n",
    "\n",
    "\n",
    "def count_safe_reports(reports):\n",
    "    \"\"\"count safe reports\"\"\"\n",
    "    safe_reports = []\n",
    "    for report in reports:\n",
    "        levels = np.array(report.split(), int)\n",
    "        if check_safe_levels(levels):\n",
    "            safe_reports.append(levels)\n",
    "    return len(safe_reports)"
   ]
  },
  {
   "cell_type": "code",
   "execution_count": 3,
   "metadata": {},
   "outputs": [],
   "source": [
    "test_data = \"\"\"7 6 4 2 1\n",
    "1 2 7 8 9\n",
    "9 7 6 2 1\n",
    "1 3 2 4 5\n",
    "8 6 4 4 1\n",
    "1 3 6 7 9\"\"\"\n",
    "test_data = test_data.split('\\n')\n",
    "assert count_safe_reports(test_data) == 2"
   ]
  },
  {
   "cell_type": "code",
   "execution_count": 4,
   "metadata": {},
   "outputs": [],
   "source": [
    "input_data = pathlib.Path('input_day_2a.txt')\n",
    "with input_data.open() as reports:\n",
    "    num_safe_reports = count_safe_reports(reports)"
   ]
  },
  {
   "cell_type": "code",
   "execution_count": 5,
   "metadata": {},
   "outputs": [
    {
     "data": {
      "text/plain": [
       "606"
      ]
     },
     "execution_count": 5,
     "metadata": {},
     "output_type": "execute_result"
    }
   ],
   "source": [
    "num_safe_reports"
   ]
  },
  {
   "cell_type": "markdown",
   "metadata": {},
   "source": [
    "## puzzle 2\n",
    "The \"Problem Dampener\" still safe with one bad level"
   ]
  },
  {
   "cell_type": "code",
   "execution_count": 6,
   "metadata": {},
   "outputs": [],
   "source": [
    "def problem_dampener(reports):\n",
    "    \"\"\"count safe reports\"\"\"\n",
    "    safe_reports = []\n",
    "    for report in reports:\n",
    "        levels = np.array(report.split(), int)\n",
    "        if check_safe_levels(levels):\n",
    "            safe_reports.append(levels)\n",
    "        else:\n",
    "            for idx in range(len(levels)):\n",
    "                damp_levels = np.delete(levels, idx)\n",
    "                if check_safe_levels(damp_levels):\n",
    "                    safe_reports.append(damp_levels)\n",
    "                    break\n",
    "    return len(safe_reports)"
   ]
  },
  {
   "cell_type": "code",
   "execution_count": 7,
   "metadata": {},
   "outputs": [],
   "source": [
    "# test_data = np.array([td.split() for td in test_data], int)\n",
    "# test_data"
   ]
  },
  {
   "cell_type": "code",
   "execution_count": 8,
   "metadata": {},
   "outputs": [],
   "source": [
    "assert problem_dampener(test_data) == 4"
   ]
  },
  {
   "cell_type": "code",
   "execution_count": 9,
   "metadata": {},
   "outputs": [
    {
     "data": {
      "text/plain": [
       "644"
      ]
     },
     "execution_count": 9,
     "metadata": {},
     "output_type": "execute_result"
    }
   ],
   "source": [
    "with input_data.open() as reports:\n",
    "    num_safe_damp_reports = problem_dampener(reports)\n",
    "num_safe_damp_reports"
   ]
  },
  {
   "cell_type": "code",
   "execution_count": null,
   "metadata": {},
   "outputs": [],
   "source": []
  }
 ],
 "metadata": {
  "kernelspec": {
   "display_name": "aoc",
   "language": "python",
   "name": "python3"
  },
  "language_info": {
   "codemirror_mode": {
    "name": "ipython",
    "version": 3
   },
   "file_extension": ".py",
   "mimetype": "text/x-python",
   "name": "python",
   "nbconvert_exporter": "python",
   "pygments_lexer": "ipython3",
   "version": "3.11.10"
  }
 },
 "nbformat": 4,
 "nbformat_minor": 2
}
