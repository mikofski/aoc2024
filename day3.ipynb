{
 "cells": [
  {
   "cell_type": "markdown",
   "metadata": {},
   "source": [
    "# Day 3\n",
    "Corrupted input"
   ]
  },
  {
   "cell_type": "code",
   "execution_count": 1,
   "metadata": {},
   "outputs": [],
   "source": [
    "import pathlib\n",
    "import re\n",
    "input_file = pathlib.Path(\"input_day_3a.txt\")"
   ]
  },
  {
   "cell_type": "code",
   "execution_count": 2,
   "metadata": {},
   "outputs": [
    {
     "data": {
      "text/plain": [
       "[('2', '4'), ('5', '5'), ('11', '8'), ('8', '5')]"
      ]
     },
     "execution_count": 2,
     "metadata": {},
     "output_type": "execute_result"
    }
   ],
   "source": [
    "p = re.compile(r'mul\\((\\d{1,3}),(\\d{1,3})\\)')\n",
    "m = p.findall(\"xmul(2,4)%&mul[3,7]!@^do_not_mul(5,5)+mul(32,64]then(mul(11,8)mul(8,5))\")\n",
    "m"
   ]
  },
  {
   "cell_type": "code",
   "execution_count": 3,
   "metadata": {},
   "outputs": [],
   "source": [
    "assert sum(int(x)*int(y) for x,y in m) == 161"
   ]
  },
  {
   "cell_type": "code",
   "execution_count": 4,
   "metadata": {},
   "outputs": [
    {
     "data": {
      "text/plain": [
       "167090022"
      ]
     },
     "execution_count": 4,
     "metadata": {},
     "output_type": "execute_result"
    }
   ],
   "source": [
    "with input_file.open() as corrupt_memory:\n",
    "    data = corrupt_memory.read()\n",
    "\n",
    "total = 0\n",
    "for m in p.finditer(data):\n",
    "    x, y = m.groups()\n",
    "    total += int(x)*int(y)\n",
    "total"
   ]
  },
  {
   "cell_type": "markdown",
   "metadata": {},
   "source": [
    "## puzzle 2"
   ]
  },
  {
   "cell_type": "code",
   "execution_count": 5,
   "metadata": {},
   "outputs": [
    {
     "name": "stdout",
     "output_type": "stream",
     "text": [
      "stop at 20\n",
      "mul(2,4) starts at 1\n",
      "adding mul(2,4)\n",
      "mul(5,5) starts at 28\n",
      "skipping mul(5,5)\n",
      "don't start until 59\n",
      "mul(11,8) starts at 48\n",
      "skipping mul(11,8)\n",
      "mul(8,5) starts at 64\n",
      "adding mul(8,5)\n"
     ]
    },
    {
     "data": {
      "text/plain": [
       "48"
      ]
     },
     "execution_count": 5,
     "metadata": {},
     "output_type": "execute_result"
    }
   ],
   "source": [
    "q = re.compile(r\"don't\\(\\)\")\n",
    "r = re.compile(r\"do\\(\\)\")\n",
    "test_data = \"xmul(2,4)&mul[3,7]!^don't()_mul(5,5)+mul(32,64](mul(11,8)undo()?mul(8,5))\"\n",
    "test_p_matches = p.finditer(test_data)\n",
    "test_q_matches = q.finditer(test_data)\n",
    "test_r_matches = r.finditer(test_data)\n",
    "\n",
    "total = 0\n",
    "for qm in test_q_matches:\n",
    "    if total > 0:\n",
    "        if qm.start() < rm.start():\n",
    "            continue\n",
    "    print(f'stop at {qm.start()}')\n",
    "    for pm in test_p_matches:\n",
    "        print(f'{pm.group()} starts at {pm.start()}')\n",
    "        if pm.start() > qm.start():\n",
    "            print(f'skipping {pm.group()}')\n",
    "            break\n",
    "        print(f'adding {pm.group()}')\n",
    "        x, y = pm.groups()\n",
    "        total += int(x)*int(y)\n",
    "\n",
    "    for rm in test_r_matches:\n",
    "        if rm.start() < qm.start():\n",
    "            continue\n",
    "        print(f\"don't start until {rm.start()}\")\n",
    "        for pm in test_p_matches:\n",
    "            print(f'{pm.group()} starts at {pm.start()}')\n",
    "            if pm.start() > rm.start():\n",
    "                break\n",
    "            print(f'skipping {pm.group()}')\n",
    "        print(f'adding {pm.group()}')\n",
    "        x, y = pm.groups()\n",
    "        total += int(x)*int(y)\n",
    "        break\n",
    "# continue to add groups after last do()\n",
    "if qm.start() < rm.start():\n",
    "    for pm in test_p_matches:\n",
    "        print(f'adding {pm.group()}')\n",
    "        x, y = pm.groups()\n",
    "        total += int(x)*int(y)\n",
    "total"
   ]
  },
  {
   "cell_type": "code",
   "execution_count": 6,
   "metadata": {},
   "outputs": [],
   "source": [
    "assert total == 48"
   ]
  },
  {
   "cell_type": "code",
   "execution_count": 10,
   "metadata": {},
   "outputs": [
    {
     "data": {
      "text/plain": [
       "89823704"
      ]
     },
     "execution_count": 10,
     "metadata": {},
     "output_type": "execute_result"
    }
   ],
   "source": [
    "p_matches = p.finditer(data)\n",
    "q_matches = q.finditer(data)\n",
    "r_matches = r.finditer(data)\n",
    "\n",
    "total = 0\n",
    "for qm in q_matches:\n",
    "    if total > 0:\n",
    "        if qm.start() < rm.start():\n",
    "            continue\n",
    "    # print(f'stop at {qm.start()}')\n",
    "    for pm in p_matches:\n",
    "        if pm.start() > qm.start():\n",
    "            # print(f'skipping {pm.group()}')\n",
    "            break\n",
    "        # print(f'adding {pm.group()}')\n",
    "        x, y = pm.groups()\n",
    "        total += int(x)*int(y)\n",
    "    for rm in r_matches:\n",
    "        if rm.start() < qm.start():\n",
    "            continue\n",
    "        # print(f\"don't start until {rm.start()}\")\n",
    "        for pm in p_matches:\n",
    "            if pm.start() > rm.start():\n",
    "                break\n",
    "            # print(f'skipping {pm.group()}')\n",
    "        # print(f'adding {pm.group()}')\n",
    "        x, y = pm.groups()\n",
    "        total += int(x)*int(y)\n",
    "        break\n",
    "# continue to add groups after last do()\n",
    "if qm.start() < rm.start():\n",
    "    for pm in p_matches:\n",
    "        # print(f'adding {pm.group()}')\n",
    "        x, y = pm.groups()\n",
    "        total += int(x)*int(y)\n",
    "total"
   ]
  },
  {
   "cell_type": "code",
   "execution_count": null,
   "metadata": {},
   "outputs": [],
   "source": []
  }
 ],
 "metadata": {
  "kernelspec": {
   "display_name": "aoc",
   "language": "python",
   "name": "python3"
  },
  "language_info": {
   "codemirror_mode": {
    "name": "ipython",
    "version": 3
   },
   "file_extension": ".py",
   "mimetype": "text/x-python",
   "name": "python",
   "nbconvert_exporter": "python",
   "pygments_lexer": "ipython3",
   "version": "3.11.10"
  }
 },
 "nbformat": 4,
 "nbformat_minor": 2
}
