{
 "cells": [
  {
   "cell_type": "markdown",
   "metadata": {},
   "source": [
    "# Day 4\n",
    "XMAS word search\n",
    "\n",
    "## DOESN'T WORK!\n",
    "Try to rotate doesn't work because words can't be split across sides like XM on left side continued on next 2 rows AS on right side. :()"
   ]
  },
  {
   "cell_type": "code",
   "execution_count": 22,
   "metadata": {},
   "outputs": [],
   "source": [
    "import logging\n",
    "import pathlib\n",
    "import re"
   ]
  },
  {
   "cell_type": "code",
   "execution_count": 23,
   "metadata": {},
   "outputs": [
    {
     "name": "stdout",
     "output_type": "stream",
     "text": [
      "MMMSXXMASM\n",
      "MSAMXMSMSA\n",
      "AMXSXMAAMM\n",
      "MSAMASMSMX\n",
      "XMASAMXAMM\n",
      "XXAMMXXAMA\n",
      "SMSMSASXSS\n",
      "SAXAMASAAA\n",
      "MAMMMXMMMM\n",
      "MXMXAXMASX\n"
     ]
    }
   ],
   "source": [
    "TEST_DATA = \"\"\"MMMSXXMASM\n",
    "MSAMXMSMSA\n",
    "AMXSXMAAMM\n",
    "MSAMASMSMX\n",
    "XMASAMXAMM\n",
    "XXAMMXXAMA\n",
    "SMSMSASXSS\n",
    "SAXAMASAAA\n",
    "MAMMMXMMMM\n",
    "MXMXAXMASX\"\"\"\n",
    "TEST_XMAS_CT = 18\n",
    "print(TEST_DATA)"
   ]
  },
  {
   "cell_type": "code",
   "execution_count": 24,
   "metadata": {},
   "outputs": [],
   "source": [
    "def get_total(matches):\n",
    "    return sum(2 if len(m)>4 else 1 for m in matches)"
   ]
  },
  {
   "cell_type": "code",
   "execution_count": 25,
   "metadata": {},
   "outputs": [
    {
     "name": "stdout",
     "output_type": "stream",
     "text": [
      "['XMAS', 'SAMX', 'XMASAMX', 'XMAS']\n"
     ]
    },
    {
     "data": {
      "text/plain": [
       "5"
      ]
     },
     "execution_count": 25,
     "metadata": {},
     "output_type": "execute_result"
    }
   ],
   "source": [
    "test_total = 0\n",
    "PATTERN = re.compile(r'(XMASAMX|SAMXMAS|XMAS|SAMX)')\n",
    "\n",
    "# find all left & right matches\n",
    "m = PATTERN.findall(TEST_DATA)\n",
    "print(m)\n",
    "\n",
    "test_total += get_total(m)\n",
    "test_total"
   ]
  },
  {
   "cell_type": "code",
   "execution_count": 26,
   "metadata": {},
   "outputs": [],
   "source": [
    "def str2mat(strlist):\n",
    "    return [list(l) for l in strlist.split('\\n')]"
   ]
  },
  {
   "cell_type": "code",
   "execution_count": 27,
   "metadata": {},
   "outputs": [
    {
     "data": {
      "text/plain": [
       "[['M', 'M', 'M', 'S', 'X', 'X', 'M', 'A', 'S', 'M'],\n",
       " ['M', 'S', 'A', 'M', 'X', 'M', 'S', 'M', 'S', 'A'],\n",
       " ['A', 'M', 'X', 'S', 'X', 'M', 'A', 'A', 'M', 'M'],\n",
       " ['M', 'S', 'A', 'M', 'A', 'S', 'M', 'S', 'M', 'X'],\n",
       " ['X', 'M', 'A', 'S', 'A', 'M', 'X', 'A', 'M', 'M'],\n",
       " ['X', 'X', 'A', 'M', 'M', 'X', 'X', 'A', 'M', 'A'],\n",
       " ['S', 'M', 'S', 'M', 'S', 'A', 'S', 'X', 'S', 'S'],\n",
       " ['S', 'A', 'X', 'A', 'M', 'A', 'S', 'A', 'A', 'A'],\n",
       " ['M', 'A', 'M', 'M', 'M', 'X', 'M', 'M', 'M', 'M'],\n",
       " ['M', 'X', 'M', 'X', 'A', 'X', 'M', 'A', 'S', 'X']]"
      ]
     },
     "execution_count": 27,
     "metadata": {},
     "output_type": "execute_result"
    }
   ],
   "source": [
    "TEST_DATA_MAT = str2mat(TEST_DATA)\n",
    "TEST_DATA_MAT"
   ]
  },
  {
   "cell_type": "code",
   "execution_count": 28,
   "metadata": {},
   "outputs": [
    {
     "data": {
      "text/plain": [
       "[('M', 'M', 'A', 'M', 'X', 'X', 'S', 'S', 'M', 'M'),\n",
       " ('M', 'S', 'M', 'S', 'M', 'X', 'M', 'A', 'A', 'X'),\n",
       " ('M', 'A', 'X', 'A', 'A', 'A', 'S', 'X', 'M', 'M'),\n",
       " ('S', 'M', 'S', 'M', 'S', 'M', 'M', 'A', 'M', 'X'),\n",
       " ('X', 'X', 'X', 'A', 'A', 'M', 'S', 'M', 'M', 'A'),\n",
       " ('X', 'M', 'M', 'S', 'M', 'X', 'A', 'A', 'X', 'X'),\n",
       " ('M', 'S', 'A', 'M', 'X', 'X', 'S', 'S', 'M', 'M'),\n",
       " ('A', 'M', 'A', 'S', 'A', 'A', 'X', 'A', 'M', 'A'),\n",
       " ('S', 'S', 'M', 'M', 'M', 'M', 'S', 'A', 'M', 'S'),\n",
       " ('M', 'A', 'M', 'X', 'M', 'A', 'S', 'A', 'M', 'X')]"
      ]
     },
     "execution_count": 28,
     "metadata": {},
     "output_type": "execute_result"
    }
   ],
   "source": [
    "TEST_DATA_MAT_TRANSPOSE = list(zip(*TEST_DATA_MAT))\n",
    "TEST_DATA_MAT_TRANSPOSE"
   ]
  },
  {
   "cell_type": "code",
   "execution_count": 29,
   "metadata": {},
   "outputs": [],
   "source": [
    "def mat2str(mat):\n",
    "    return '\\n'.join(''.join(l) for l in mat)"
   ]
  },
  {
   "cell_type": "code",
   "execution_count": 30,
   "metadata": {},
   "outputs": [
    {
     "name": "stdout",
     "output_type": "stream",
     "text": [
      "MMAMXXSSMM\n",
      "MSMSMXMAAX\n",
      "MAXAAASXMM\n",
      "SMSMSMMAMX\n",
      "XXXAAMSMMA\n",
      "XMMSMXAAXX\n",
      "MSAMXXSSMM\n",
      "AMASAAXAMA\n",
      "SSMMMMSAMS\n",
      "MAMXMASAMX\n"
     ]
    }
   ],
   "source": [
    "TEST_DATA_TRANSPOSE = mat2str(TEST_DATA_MAT_TRANSPOSE)\n",
    "print(TEST_DATA_TRANSPOSE)"
   ]
  },
  {
   "cell_type": "code",
   "execution_count": 31,
   "metadata": {},
   "outputs": [
    {
     "name": "stdout",
     "output_type": "stream",
     "text": [
      "['SAMX', 'XMASAMX']\n"
     ]
    },
    {
     "data": {
      "text/plain": [
       "8"
      ]
     },
     "execution_count": 31,
     "metadata": {},
     "output_type": "execute_result"
    }
   ],
   "source": [
    "# get the up & down matches\n",
    "m = PATTERN.findall(TEST_DATA_TRANSPOSE)\n",
    "print(m)\n",
    "\n",
    "test_total += get_total(m)\n",
    "test_total"
   ]
  },
  {
   "cell_type": "code",
   "execution_count": 32,
   "metadata": {},
   "outputs": [],
   "source": [
    "def shift_left(mat):\n",
    "    newmat = []\n",
    "    size = len(mat)\n",
    "    for idx in range(size):\n",
    "        newmat.append(mat[idx][idx:] + mat[idx][0:idx])\n",
    "    return newmat"
   ]
  },
  {
   "cell_type": "code",
   "execution_count": 33,
   "metadata": {},
   "outputs": [
    {
     "name": "stdout",
     "output_type": "stream",
     "text": [
      "MSXMAXSAMX\n",
      "MASAMXXAMm\n",
      "MMXSXASAmx\n",
      "SXMMAMSsam\n",
      "XMASMASAMX\n",
      "XSAMMXMXMa\n",
      "MMMXXXSAmx\n",
      "ASMMMAMmxm\n",
      "SAASAMSAMA\n",
      "MMMASMASMs\n"
     ]
    }
   ],
   "source": [
    "test_data_right_diag = shift_left(TEST_DATA_MAT)\n",
    "test_data_right_transpose = list(zip(*test_data_right_diag))\n",
    "test_data_right_transpose = [\n",
    "    list(test_data_right_transpose[idx][:10-idx%4]) \n",
    "    + [x.lower() for x in test_data_right_transpose[idx][10-idx%4:]]\n",
    "    for idx in range(10)]\n",
    "test_data_right_transpose = mat2str(test_data_right_transpose)\n",
    "print(test_data_right_transpose)"
   ]
  },
  {
   "cell_type": "code",
   "execution_count": 34,
   "metadata": {},
   "outputs": [
    {
     "name": "stdout",
     "output_type": "stream",
     "text": [
      "['SAMX', 'SAMX', 'XMAS', 'SAMX']\n"
     ]
    },
    {
     "data": {
      "text/plain": [
       "12"
      ]
     },
     "execution_count": 34,
     "metadata": {},
     "output_type": "execute_result"
    }
   ],
   "source": [
    "m = PATTERN.findall(test_data_right_transpose)\n",
    "print(m)\n",
    "\n",
    "test_total += get_total(m)\n",
    "test_total"
   ]
  },
  {
   "cell_type": "code",
   "execution_count": 35,
   "metadata": {},
   "outputs": [],
   "source": [
    "def shift_right(mat):\n",
    "    newmat = []\n",
    "    size = len(mat)\n",
    "    for idx in range(size):\n",
    "        newmat.append(mat[idx][size-idx:] + mat[idx][:size-idx])\n",
    "    return newmat"
   ]
  },
  {
   "cell_type": "code",
   "execution_count": 47,
   "metadata": {},
   "outputs": [
    {
     "name": "stdout",
     "output_type": "stream",
     "text": [
      "mAMSXXSAMX\n",
      "mmMMAXAMMM\n",
      "msaXMASAMX\n",
      "SAMMMMXSXA\n",
      "XMXSXASAMx\n",
      "XXSAMXSAmm\n",
      "MMXMAXSama\n",
      "ASMASAMSMS\n",
      "sMASAMSAMX\n",
      "msAMMMMXAM\n"
     ]
    }
   ],
   "source": [
    "test_data_left_diag = shift_right(TEST_DATA_MAT)\n",
    "test_data_left_transpose = list(zip(*test_data_left_diag))\n",
    "test_data_left_transpose = [\n",
    "    [x.lower() for x in test_data_left_transpose[idx][:(1+idx)%4]]\n",
    "    + list(test_data_left_transpose[idx][(1+idx)%4:]) if idx < 3 or idx > 7 else\n",
    "    list(test_data_left_transpose[idx][:10-(1+idx)%4]) \n",
    "    + [x.lower() for x in test_data_left_transpose[idx][10-(1+idx)%4:]]\n",
    "    for idx in range(10)]\n",
    "test_data_left_transpose = mat2str(test_data_left_transpose)\n",
    "print(test_data_left_transpose)"
   ]
  },
  {
   "cell_type": "code",
   "execution_count": 37,
   "metadata": {},
   "outputs": [
    {
     "name": "stdout",
     "output_type": "stream",
     "text": [
      "['SAMX', 'XMASAMX', 'SAMX', 'SAMX', 'SAMX']\n"
     ]
    },
    {
     "data": {
      "text/plain": [
       "18"
      ]
     },
     "execution_count": 37,
     "metadata": {},
     "output_type": "execute_result"
    }
   ],
   "source": [
    "m = PATTERN.findall(test_data_left_transpose)\n",
    "print(m)\n",
    "\n",
    "test_total += get_total(m)\n",
    "test_total"
   ]
  },
  {
   "cell_type": "code",
   "execution_count": 38,
   "metadata": {},
   "outputs": [],
   "source": [
    "assert test_total == TEST_XMAS_CT"
   ]
  },
  {
   "cell_type": "code",
   "execution_count": 39,
   "metadata": {},
   "outputs": [],
   "source": [
    "with pathlib.Path('input_day_4a.txt').open() as f:\n",
    "    g = f.read()\n",
    "g = g[:-1]"
   ]
  },
  {
   "cell_type": "code",
   "execution_count": 40,
   "metadata": {},
   "outputs": [],
   "source": [
    "def make_right_diagonals(mat):\n",
    "    size = len(mat)\n",
    "    right_diag = shift_left(mat)\n",
    "    right_transpose = list(zip(*right_diag))\n",
    "    right_transpose = [\n",
    "        list(right_transpose[idx][:size-idx%4]) \n",
    "        + [x.lower() for x in right_transpose[idx][size-idx%4:]]\n",
    "        for idx in range(size)]\n",
    "    return mat2str(right_transpose)\n",
    "\n",
    "\n",
    "def make_left_diagonals(mat):\n",
    "    size = len(mat)\n",
    "    left_diag = shift_right(mat)\n",
    "    left_transpose = list(zip(*left_diag))\n",
    "    left_transpose = [\n",
    "        [x.lower() for x in left_transpose[idx][:(1+idx)%4]]\n",
    "        + list(left_transpose[idx][(1+idx)%4:]) \n",
    "        for idx in range(size)]\n",
    "    return mat2str(left_transpose)"
   ]
  },
  {
   "cell_type": "code",
   "execution_count": 41,
   "metadata": {},
   "outputs": [
    {
     "data": {
      "text/plain": [
       "2532"
      ]
     },
     "execution_count": 41,
     "metadata": {},
     "output_type": "execute_result"
    }
   ],
   "source": [
    "total = 0\n",
    "\n",
    "# get the left & right matches\n",
    "m = PATTERN.findall(g)\n",
    "total += get_total(m)\n",
    "\n",
    "# get the up & down matches\n",
    "gmat = str2mat(g)\n",
    "gtransposed = list(zip(*gmat))\n",
    "gtransposed = mat2str(gtransposed)\n",
    "m = PATTERN.findall(gtransposed)\n",
    "total += get_total(m)\n",
    "\n",
    "# get the right diagonals\n",
    "gright = make_right_diagonals(gmat)\n",
    "m = PATTERN.findall(gright)\n",
    "total += get_total(m)\n",
    "\n",
    "# get the left diagonals\n",
    "gleft = make_left_diagonals(gmat)\n",
    "m = PATTERN.findall(gleft)\n",
    "total += get_total(m)\n",
    "\n",
    "total"
   ]
  },
  {
   "cell_type": "code",
   "execution_count": 42,
   "metadata": {},
   "outputs": [
    {
     "ename": "AssertionError",
     "evalue": "",
     "output_type": "error",
     "traceback": [
      "\u001b[1;31m---------------------------------------------------------------------------\u001b[0m",
      "\u001b[1;31mAssertionError\u001b[0m                            Traceback (most recent call last)",
      "Cell \u001b[1;32mIn[42], line 1\u001b[0m\n\u001b[1;32m----> 1\u001b[0m \u001b[38;5;28;01massert\u001b[39;00m total \u001b[38;5;241m==\u001b[39m \u001b[38;5;241m2569\u001b[39m\n",
      "\u001b[1;31mAssertionError\u001b[0m: "
     ]
    }
   ],
   "source": [
    "assert total == 2569"
   ]
  },
  {
   "cell_type": "code",
   "execution_count": null,
   "metadata": {},
   "outputs": [],
   "source": []
  }
 ],
 "metadata": {
  "kernelspec": {
   "display_name": "aoc",
   "language": "python",
   "name": "python3"
  },
  "language_info": {
   "codemirror_mode": {
    "name": "ipython",
    "version": 3
   },
   "file_extension": ".py",
   "mimetype": "text/x-python",
   "name": "python",
   "nbconvert_exporter": "python",
   "pygments_lexer": "ipython3",
   "version": "3.11.10"
  }
 },
 "nbformat": 4,
 "nbformat_minor": 2
}
