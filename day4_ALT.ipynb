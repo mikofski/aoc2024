{
 "cells": [
  {
   "cell_type": "markdown",
   "metadata": {},
   "source": [
    "# Day 4\n",
    "XMAS word search\n",
    "\n",
    "## !WARNING!\n",
    "Rotating words from one side to the other doesn't work because words can't be split across sides like XM on left side continued on next 2 rows AS on right side. :("
   ]
  },
  {
   "cell_type": "code",
   "execution_count": 1,
   "metadata": {},
   "outputs": [],
   "source": [
    "import logging\n",
    "import pathlib\n",
    "import re"
   ]
  },
  {
   "cell_type": "code",
   "execution_count": 2,
   "metadata": {},
   "outputs": [
    {
     "name": "stdout",
     "output_type": "stream",
     "text": [
      "MMMSXXMASM\n",
      "MSAMXMSMSA\n",
      "AMXSXMAAMM\n",
      "MSAMASMSMX\n",
      "XMASAMXAMM\n",
      "XXAMMXXAMA\n",
      "SMSMSASXSS\n",
      "SAXAMASAAA\n",
      "MAMMMXMMMM\n",
      "MXMXAXMASX\n"
     ]
    }
   ],
   "source": [
    "TEST_DATA = \"\"\"MMMSXXMASM\n",
    "MSAMXMSMSA\n",
    "AMXSXMAAMM\n",
    "MSAMASMSMX\n",
    "XMASAMXAMM\n",
    "XXAMMXXAMA\n",
    "SMSMSASXSS\n",
    "SAXAMASAAA\n",
    "MAMMMXMMMM\n",
    "MXMXAXMASX\"\"\"\n",
    "TEST_XMAS_CT = 18\n",
    "print(TEST_DATA)"
   ]
  },
  {
   "cell_type": "code",
   "execution_count": 3,
   "metadata": {},
   "outputs": [],
   "source": [
    "def get_total(matches):\n",
    "    return sum(4 - (len(m) - 1) % 4 for m in matches)\n",
    "\n",
    "assert get_total(re.findall('XMASAMXMASAMX', 'XMASAMXMASAMX')) == 4\n",
    "assert get_total(re.findall('SAMXMASAMXMAS', 'SAMXMASAMXMAS')) == 4\n",
    "assert get_total(re.findall('XMASAMXMAS', 'XMASAMXMAS')) == 3\n",
    "assert get_total(re.findall('SAMXMASAMX', 'SAMXMASAMX')) == 3\n",
    "assert get_total(re.findall('XMASAMX', 'XMASAMX')) == 2\n",
    "assert get_total(re.findall('SAMXMAS', 'SAMXMAS')) == 2\n",
    "assert get_total(re.findall('XMAS', 'XMAS')) == 1\n",
    "assert get_total(re.findall('SAMX', 'SAMX')) == 1"
   ]
  },
  {
   "cell_type": "code",
   "execution_count": 4,
   "metadata": {},
   "outputs": [
    {
     "name": "stdout",
     "output_type": "stream",
     "text": [
      "['XMAS', 'SAMX', 'XMASAMX', 'XMAS']\n"
     ]
    },
    {
     "data": {
      "text/plain": [
       "5"
      ]
     },
     "execution_count": 4,
     "metadata": {},
     "output_type": "execute_result"
    }
   ],
   "source": [
    "test_total = 0\n",
    "PATTERN = re.compile(r'(XMASAMXMASAMX|SAMXMASAMXMAS|XMASAMXMAS|SAMXMASAMX|XMASAMX|SAMXMAS|XMAS|SAMX)')\n",
    "\n",
    "# find all left & right matches\n",
    "m = PATTERN.findall(TEST_DATA)\n",
    "print(m)\n",
    "\n",
    "test_total += get_total(m)\n",
    "test_total"
   ]
  },
  {
   "cell_type": "code",
   "execution_count": 5,
   "metadata": {},
   "outputs": [],
   "source": [
    "def str2mat(strlist):\n",
    "    return [list(l) for l in strlist.split('\\n')]"
   ]
  },
  {
   "cell_type": "code",
   "execution_count": 6,
   "metadata": {},
   "outputs": [
    {
     "data": {
      "text/plain": [
       "[['M', 'M', 'M', 'S', 'X', 'X', 'M', 'A', 'S', 'M'],\n",
       " ['M', 'S', 'A', 'M', 'X', 'M', 'S', 'M', 'S', 'A'],\n",
       " ['A', 'M', 'X', 'S', 'X', 'M', 'A', 'A', 'M', 'M'],\n",
       " ['M', 'S', 'A', 'M', 'A', 'S', 'M', 'S', 'M', 'X'],\n",
       " ['X', 'M', 'A', 'S', 'A', 'M', 'X', 'A', 'M', 'M'],\n",
       " ['X', 'X', 'A', 'M', 'M', 'X', 'X', 'A', 'M', 'A'],\n",
       " ['S', 'M', 'S', 'M', 'S', 'A', 'S', 'X', 'S', 'S'],\n",
       " ['S', 'A', 'X', 'A', 'M', 'A', 'S', 'A', 'A', 'A'],\n",
       " ['M', 'A', 'M', 'M', 'M', 'X', 'M', 'M', 'M', 'M'],\n",
       " ['M', 'X', 'M', 'X', 'A', 'X', 'M', 'A', 'S', 'X']]"
      ]
     },
     "execution_count": 6,
     "metadata": {},
     "output_type": "execute_result"
    }
   ],
   "source": [
    "TEST_DATA_MAT = str2mat(TEST_DATA)\n",
    "TEST_DATA_MAT"
   ]
  },
  {
   "cell_type": "code",
   "execution_count": 7,
   "metadata": {},
   "outputs": [
    {
     "data": {
      "text/plain": [
       "[('M', 'M', 'A', 'M', 'X', 'X', 'S', 'S', 'M', 'M'),\n",
       " ('M', 'S', 'M', 'S', 'M', 'X', 'M', 'A', 'A', 'X'),\n",
       " ('M', 'A', 'X', 'A', 'A', 'A', 'S', 'X', 'M', 'M'),\n",
       " ('S', 'M', 'S', 'M', 'S', 'M', 'M', 'A', 'M', 'X'),\n",
       " ('X', 'X', 'X', 'A', 'A', 'M', 'S', 'M', 'M', 'A'),\n",
       " ('X', 'M', 'M', 'S', 'M', 'X', 'A', 'A', 'X', 'X'),\n",
       " ('M', 'S', 'A', 'M', 'X', 'X', 'S', 'S', 'M', 'M'),\n",
       " ('A', 'M', 'A', 'S', 'A', 'A', 'X', 'A', 'M', 'A'),\n",
       " ('S', 'S', 'M', 'M', 'M', 'M', 'S', 'A', 'M', 'S'),\n",
       " ('M', 'A', 'M', 'X', 'M', 'A', 'S', 'A', 'M', 'X')]"
      ]
     },
     "execution_count": 7,
     "metadata": {},
     "output_type": "execute_result"
    }
   ],
   "source": [
    "TEST_DATA_MAT_TRANSPOSE = list(zip(*TEST_DATA_MAT))\n",
    "TEST_DATA_MAT_TRANSPOSE"
   ]
  },
  {
   "cell_type": "code",
   "execution_count": 8,
   "metadata": {},
   "outputs": [],
   "source": [
    "def mat2str(mat):\n",
    "    return '\\n'.join(''.join(l) for l in mat)"
   ]
  },
  {
   "cell_type": "code",
   "execution_count": 9,
   "metadata": {},
   "outputs": [
    {
     "name": "stdout",
     "output_type": "stream",
     "text": [
      "MMAMXXSSMM\n",
      "MSMSMXMAAX\n",
      "MAXAAASXMM\n",
      "SMSMSMMAMX\n",
      "XXXAAMSMMA\n",
      "XMMSMXAAXX\n",
      "MSAMXXSSMM\n",
      "AMASAAXAMA\n",
      "SSMMMMSAMS\n",
      "MAMXMASAMX\n"
     ]
    }
   ],
   "source": [
    "TEST_DATA_TRANSPOSE = mat2str(TEST_DATA_MAT_TRANSPOSE)\n",
    "print(TEST_DATA_TRANSPOSE)"
   ]
  },
  {
   "cell_type": "code",
   "execution_count": 10,
   "metadata": {},
   "outputs": [
    {
     "name": "stdout",
     "output_type": "stream",
     "text": [
      "['SAMX', 'XMASAMX']\n"
     ]
    },
    {
     "data": {
      "text/plain": [
       "8"
      ]
     },
     "execution_count": 10,
     "metadata": {},
     "output_type": "execute_result"
    }
   ],
   "source": [
    "# get the up & down matches\n",
    "m = PATTERN.findall(TEST_DATA_TRANSPOSE)\n",
    "print(m)\n",
    "\n",
    "test_total += get_total(m)\n",
    "test_total"
   ]
  },
  {
   "cell_type": "code",
   "execution_count": 11,
   "metadata": {},
   "outputs": [],
   "source": [
    "def shift_left(mat):\n",
    "    newmat = []\n",
    "    size = len(mat)\n",
    "    for idx in range(size):\n",
    "        newmat.append(['.']*(size-idx) + mat[idx] + ['.']*idx)\n",
    "    return newmat"
   ]
  },
  {
   "cell_type": "code",
   "execution_count": 12,
   "metadata": {},
   "outputs": [
    {
     "name": "stdout",
     "output_type": "stream",
     "text": [
      "..........\n",
      ".........M\n",
      "........MX\n",
      ".......SAM\n",
      "......SAMX\n",
      ".....XMXMA\n",
      "....XXSAMX\n",
      "...MMAMMXM\n",
      "..ASAMSAMA\n",
      ".MMASMASMS\n",
      "MSXMAXSAMX\n",
      "MASAMXXAM.\n",
      "MMXSXASA..\n",
      "SXMMAMS...\n",
      "XMASMA....\n",
      "XSAMM.....\n",
      "MMMX......\n",
      "ASM.......\n",
      "SA........\n",
      "M.........\n"
     ]
    }
   ],
   "source": [
    "test_data_right_diag = shift_left(TEST_DATA_MAT)\n",
    "test_data_right_transpose = list(zip(*test_data_right_diag))\n",
    "test_data_right_transpose = mat2str(test_data_right_transpose)\n",
    "print(test_data_right_transpose)"
   ]
  },
  {
   "cell_type": "code",
   "execution_count": 13,
   "metadata": {},
   "outputs": [
    {
     "name": "stdout",
     "output_type": "stream",
     "text": [
      "['SAMX', 'SAMX', 'SAMX', 'SAMX', 'XMAS']\n"
     ]
    },
    {
     "data": {
      "text/plain": [
       "13"
      ]
     },
     "execution_count": 13,
     "metadata": {},
     "output_type": "execute_result"
    }
   ],
   "source": [
    "m = PATTERN.findall(test_data_right_transpose)\n",
    "print(m)\n",
    "\n",
    "test_total += get_total(m)\n",
    "test_total"
   ]
  },
  {
   "cell_type": "code",
   "execution_count": 14,
   "metadata": {},
   "outputs": [],
   "source": [
    "def shift_right(mat):\n",
    "    newmat = []\n",
    "    size = len(mat)\n",
    "    for idx in range(size):\n",
    "        newmat.append(['.']*idx + mat[idx] + ['.']*(size-idx))\n",
    "    return newmat"
   ]
  },
  {
   "cell_type": "code",
   "execution_count": 15,
   "metadata": {},
   "outputs": [
    {
     "name": "stdout",
     "output_type": "stream",
     "text": [
      "M.........\n",
      "MM........\n",
      "MSA.......\n",
      "SAMM......\n",
      "XMXSX.....\n",
      "XXSAMX....\n",
      "MMXMAXS...\n",
      "ASMASAMS..\n",
      "SMASAMSAM.\n",
      "MSAMMMMXAM\n",
      ".AMSXXSAMX\n",
      "..MMAXAMMM\n",
      "...XMASAMX\n",
      "....MMXSXA\n",
      ".....ASAMX\n",
      "......SAMM\n",
      ".......AMA\n",
      "........MS\n",
      ".........X\n",
      "..........\n"
     ]
    }
   ],
   "source": [
    "test_data_left_diag = shift_right(TEST_DATA_MAT)\n",
    "test_data_left_transpose = list(zip(*test_data_left_diag))\n",
    "test_data_left_transpose = mat2str(test_data_left_transpose)\n",
    "print(test_data_left_transpose)"
   ]
  },
  {
   "cell_type": "code",
   "execution_count": 16,
   "metadata": {},
   "outputs": [
    {
     "name": "stdout",
     "output_type": "stream",
     "text": [
      "['SAMX', 'SAMX', 'XMASAMX', 'SAMX']\n"
     ]
    },
    {
     "data": {
      "text/plain": [
       "18"
      ]
     },
     "execution_count": 16,
     "metadata": {},
     "output_type": "execute_result"
    }
   ],
   "source": [
    "m = PATTERN.findall(test_data_left_transpose)\n",
    "print(m)\n",
    "\n",
    "test_total += get_total(m)\n",
    "test_total"
   ]
  },
  {
   "cell_type": "code",
   "execution_count": 17,
   "metadata": {},
   "outputs": [],
   "source": [
    "assert test_total == TEST_XMAS_CT"
   ]
  },
  {
   "cell_type": "code",
   "execution_count": 18,
   "metadata": {},
   "outputs": [],
   "source": [
    "with pathlib.Path('input_day_4a.txt').open() as f:\n",
    "    g = f.read()\n",
    "g = g[:-1]"
   ]
  },
  {
   "cell_type": "code",
   "execution_count": 19,
   "metadata": {},
   "outputs": [],
   "source": [
    "def make_right_diagonals(mat):\n",
    "    right_diag = shift_left(mat)\n",
    "    right_transpose = list(zip(*right_diag))\n",
    "    return mat2str(right_transpose)\n",
    "\n",
    "\n",
    "def make_left_diagonals(mat):\n",
    "    left_diag = shift_right(mat)\n",
    "    left_transpose = list(zip(*left_diag))\n",
    "    return mat2str(left_transpose)"
   ]
  },
  {
   "cell_type": "code",
   "execution_count": 20,
   "metadata": {},
   "outputs": [
    {
     "name": "stdout",
     "output_type": "stream",
     "text": [
      "469\n",
      "894\n",
      "1714\n",
      "2569\n"
     ]
    },
    {
     "data": {
      "text/plain": [
       "2569"
      ]
     },
     "execution_count": 20,
     "metadata": {},
     "output_type": "execute_result"
    }
   ],
   "source": [
    "total = 0\n",
    "\n",
    "# get the left & right matches\n",
    "m = PATTERN.findall(g)\n",
    "total += get_total(m)\n",
    "print(total)\n",
    "\n",
    "# get the up & down matches\n",
    "gmat = str2mat(g)\n",
    "gtransposed = list(zip(*gmat))\n",
    "gtransposed = mat2str(gtransposed)\n",
    "m = PATTERN.findall(gtransposed)\n",
    "total += get_total(m)\n",
    "print(total)\n",
    "\n",
    "# get the right diagonals\n",
    "gright = make_right_diagonals(gmat)\n",
    "m = PATTERN.findall(gright)\n",
    "total += get_total(m)\n",
    "print(total)\n",
    "\n",
    "# get the left diagonals\n",
    "gleft = make_left_diagonals(gmat)\n",
    "m = PATTERN.findall(gleft)\n",
    "total += get_total(m)\n",
    "print(total)\n",
    "\n",
    "total"
   ]
  },
  {
   "cell_type": "code",
   "execution_count": 21,
   "metadata": {},
   "outputs": [],
   "source": [
    "assert total == 2569"
   ]
  },
  {
   "cell_type": "code",
   "execution_count": null,
   "metadata": {},
   "outputs": [],
   "source": []
  }
 ],
 "metadata": {
  "kernelspec": {
   "display_name": "aoc",
   "language": "python",
   "name": "python3"
  },
  "language_info": {
   "codemirror_mode": {
    "name": "ipython",
    "version": 3
   },
   "file_extension": ".py",
   "mimetype": "text/x-python",
   "name": "python",
   "nbconvert_exporter": "python",
   "pygments_lexer": "ipython3",
   "version": "3.11.10"
  }
 },
 "nbformat": 4,
 "nbformat_minor": 2
}
